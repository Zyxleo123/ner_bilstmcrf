{
 "cells": [
  {
   "cell_type": "code",
   "execution_count": null,
   "metadata": {},
   "outputs": [],
   "source": [
    "import torch\n",
    "from src.models.crf import CRF\n",
    "START_LABEL = \"<START>\"\n",
    "STOP_LABEL = \"<STOP>\"\n",
    "PAD_LABEL = \"<PAD>\"\n",
    "LABEL_TO_IDX = {\n",
    "    'A': 0,\n",
    "    'B': 1,\n",
    "    'C': 2,\n",
    "    START_LABEL: 3,\n",
    "    STOP_LABEL: 4,\n",
    "    PAD_LABEL: 5,\n",
    "}\n",
    "K = len(LABEL_TO_IDX)\n",
    "crf = CRF(LABEL_TO_IDX)"
   ]
  },
  {
   "cell_type": "code",
   "execution_count": null,
   "metadata": {},
   "outputs": [],
   "source": [
    "# test calculate_sent_score\n",
    "#def _cal_sent_score(self, feats, labels, masks):\n",
    "# L, B = masks.shape\n",
    "# assert feats.shape == (L, B, self.K)\n",
    "# assert labels.shape == (L, B)\n",
    "# score = torch.zeros(B, device=feats.device) # B\n",
    "# labels = torch.cat([torch.full((1, B), self.label_to_idx[START_LABEL], dtype=torch.long, device=feats.device), labels], dim=0) # (L + 1) x B\n",
    "# for t, feat in enumerate(feats):\n",
    "#     score += (self.transitions[labels[t + 1], labels[t]] + feat[range(B), labels[t + 1]]) * masks[t] # (B + B) x B -> B\n",
    "# # add the last transition to STOP_LABEL\n",
    "# score += self.transitions[self.label_to_idx[STOP_LABEL], labels[torch.sum(masks, dim=0).long(), range(B)]]\n",
    "# return score\n",
    "feat = torch.arange(1, 1+K)\n",
    "feats = torch.stack([torch.stack([feat, feat + 1]),\n",
    "                      torch.stack([feat + 2, feat + 3]),\n",
    "                    torch.stack([feat + 4, feat * 0])]) # L x B x K\n",
    "labels = torch.tensor([[0, 0],\n",
    "                    [1, 1],\n",
    "                    [2, 5]]) # L x B\n",
    "masks = torch.tensor([[1, 1],\n",
    "                    [1, 1],\n",
    "                    [1, 0]], dtype=torch.bool) # L x B\n",
    "crf.transitions.data = torch.full_like(crf.transitions, -10000.)\n",
    "crf.transitions.data[0:3, 0:3] = torch.tensor([[0, 1, 2],\n",
    "                                        [3, 4, 5],\n",
    "                                        [6, 7, 8]])\n",
    "crf.transitions.data[LABEL_TO_IDX[STOP_LABEL], :] = feat\n",
    "crf.transitions.data[:, LABEL_TO_IDX[START_LABEL]] = feat"
   ]
  },
  {
   "cell_type": "code",
   "execution_count": null,
   "metadata": {},
   "outputs": [],
   "source": [
    "crf._cal_sent_score(feats, labels, masks) # B"
   ]
  },
  {
   "cell_type": "code",
   "execution_count": null,
   "metadata": {},
   "outputs": [],
   "source": [
    "crf._cal_partition(feats, masks) # B"
   ]
  },
  {
   "cell_type": "code",
   "execution_count": null,
   "metadata": {},
   "outputs": [],
   "source": [
    "def log_sum_exp(vec):\n",
    "    B, K = vec.shape\n",
    "    max_score = vec[range(B), torch.argmax(vec, dim=1)] # B\n",
    "    return max_score + torch.log(torch.sum(torch.exp(vec - max_score.view(-1, 1)), dim=1)) # B\n"
   ]
  },
  {
   "cell_type": "code",
   "execution_count": 1,
   "metadata": {
    "metadata": {}
   },
   "outputs": [
    {
     "name": "stdout",
     "output_type": "stream",
     "text": [
      "env: http_proxy=127.0.0.1:7890\n",
      "env: https_proxy=127.0.0.1:7890\n"
     ]
    },
    {
     "name": "stderr",
     "output_type": "stream",
     "text": [
      "/root/mambaforge/envs/bilstmcrf/lib/python3.8/site-packages/tqdm/auto.py:21: TqdmWarning: IProgress not found. Please update jupyter and ipywidgets. See https://ipywidgets.readthedocs.io/en/stable/user_install.html\n",
      "  from .autonotebook import tqdm as notebook_tqdm\n"
     ]
    }
   ],
   "source": [
    "%env http_proxy 127.0.0.1:7890\n",
    "%env https_proxy 127.0.0.1:7890\n",
    "from src.models.bilstm_crf import BiLSTMCRF\n",
    "from src.variable import LABEL_TO_IDX\n",
    "bilstm_crf = BiLSTMCRF(LABEL_TO_IDX, 1, 3)"
   ]
  },
  {
   "cell_type": "code",
   "execution_count": 10,
   "metadata": {
    "metadata": {}
   },
   "outputs": [],
   "source": [
    "import torch\n",
    "word_ids = torch.tensor([[-1, 0, 1, 1, 1, -1],\n",
    "                        [-1, 0, 1, 2, 2, -1]])\n",
    "feat = torch.arange(1, 1+3, dtype=torch.float)\n",
    "char_feats = torch.stack([torch.stack([feat, feat+1]),\n",
    "                        torch.stack([feat+2, feat+3]),\n",
    "                        torch.stack([feat+4, feat+5]),\n",
    "                        torch.stack([feat+6, feat+7]),\n",
    "                        torch.stack([feat+8, feat+9]),\n",
    "                        torch.stack([feat+10, feat+11])]) # L x B x K\n",
    "attention_mask = torch.tensor([[1, 1, 1, 1, 1, 1],\n",
    "                                [1, 1, 1, 1, 1, 1]], dtype=torch.bool) # L x B"
   ]
  },
  {
   "cell_type": "code",
   "execution_count": 11,
   "metadata": {
    "metadata": {}
   },
   "outputs": [
    {
     "name": "stdout",
     "output_type": "stream",
     "text": [
      "tensor([4, 4])\n",
      "tensor([4, 4])\n"
     ]
    },
    {
     "data": {
      "text/plain": [
       "(tensor([[[ 3.,  4.,  5.],\n",
       "          [ 4.,  5.,  6.]],\n",
       " \n",
       "         [[ 7.,  8.,  9.],\n",
       "          [ 6.,  7.,  8.]],\n",
       " \n",
       "         [[ 0.,  0.,  0.],\n",
       "          [ 9., 10., 11.]]]),\n",
       " tensor([[1., 1.],\n",
       "         [1., 1.],\n",
       "         [0., 1.]]))"
      ]
     },
     "execution_count": 11,
     "metadata": {},
     "output_type": "execute_result"
    }
   ],
   "source": [
    "bilstm_crf._char_feat_to_word_feat(char_feats, word_ids, attention_mask) # L x B x K"
   ]
  },
  {
   "cell_type": "code",
   "execution_count": null,
   "metadata": {},
   "outputs": [],
   "source": []
  },
  {
   "cell_type": "code",
   "execution_count": null,
   "metadata": {},
   "outputs": [],
   "source": []
  }
 ],
 "metadata": {
  "kernelspec": {
   "display_name": "bilstmcrf",
   "language": "python",
   "name": "python3"
  },
  "language_info": {
   "codemirror_mode": {
    "name": "ipython",
    "version": 3
   },
   "file_extension": ".py",
   "mimetype": "text/x-python",
   "name": "python",
   "nbconvert_exporter": "python",
   "pygments_lexer": "ipython3",
   "version": "3.8.19"
  }
 },
 "nbformat": 4,
 "nbformat_minor": 2
}
